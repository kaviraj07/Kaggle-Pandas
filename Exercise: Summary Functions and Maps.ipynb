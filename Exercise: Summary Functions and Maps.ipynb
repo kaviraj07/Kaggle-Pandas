{
 "cells": [
  {
   "cell_type": "markdown",
   "id": "135db40e",
   "metadata": {
    "papermill": {
     "duration": 0.005887,
     "end_time": "2025-05-13T22:26:41.034860",
     "exception": false,
     "start_time": "2025-05-13T22:26:41.028973",
     "status": "completed"
    },
    "tags": []
   },
   "source": [
    "**This notebook is an exercise in the [Pandas](https://www.kaggle.com/learn/pandas) course.  You can reference the tutorial at [this link](https://www.kaggle.com/residentmario/summary-functions-and-maps).**\n",
    "\n",
    "---\n"
   ]
  },
  {
   "cell_type": "markdown",
   "id": "d7fd49da",
   "metadata": {
    "papermill": {
     "duration": 0.004429,
     "end_time": "2025-05-13T22:26:41.045013",
     "exception": false,
     "start_time": "2025-05-13T22:26:41.040584",
     "status": "completed"
    },
    "tags": []
   },
   "source": [
    "# Introduction\n",
    "\n",
    "Now you are ready to get a deeper understanding of your data.\n",
    "\n",
    "Run the following cell to load your data and some utility functions (including code to check your answers)."
   ]
  },
  {
   "cell_type": "code",
   "execution_count": 1,
   "id": "0f984163",
   "metadata": {
    "execution": {
     "iopub.execute_input": "2025-05-13T22:26:41.056007Z",
     "iopub.status.busy": "2025-05-13T22:26:41.055567Z",
     "iopub.status.idle": "2025-05-13T22:26:48.899332Z",
     "shell.execute_reply": "2025-05-13T22:26:48.898051Z"
    },
    "papermill": {
     "duration": 7.851496,
     "end_time": "2025-05-13T22:26:48.901301",
     "exception": false,
     "start_time": "2025-05-13T22:26:41.049805",
     "status": "completed"
    },
    "tags": []
   },
   "outputs": [
    {
     "name": "stdout",
     "output_type": "stream",
     "text": [
      "Setup complete.\n"
     ]
    },
    {
     "name": "stderr",
     "output_type": "stream",
     "text": [
      "/usr/local/lib/python3.11/dist-packages/pandas/io/formats/format.py:1458: RuntimeWarning: invalid value encountered in greater\n",
      "  has_large_values = (abs_vals > 1e6).any()\n",
      "/usr/local/lib/python3.11/dist-packages/pandas/io/formats/format.py:1459: RuntimeWarning: invalid value encountered in less\n",
      "  has_small_values = ((abs_vals < 10 ** (-self.digits)) & (abs_vals > 0)).any()\n",
      "/usr/local/lib/python3.11/dist-packages/pandas/io/formats/format.py:1459: RuntimeWarning: invalid value encountered in greater\n",
      "  has_small_values = ((abs_vals < 10 ** (-self.digits)) & (abs_vals > 0)).any()\n"
     ]
    },
    {
     "data": {
      "text/html": [
       "<div>\n",
       "<style scoped>\n",
       "    .dataframe tbody tr th:only-of-type {\n",
       "        vertical-align: middle;\n",
       "    }\n",
       "\n",
       "    .dataframe tbody tr th {\n",
       "        vertical-align: top;\n",
       "    }\n",
       "\n",
       "    .dataframe thead th {\n",
       "        text-align: right;\n",
       "    }\n",
       "</style>\n",
       "<table border=\"1\" class=\"dataframe\">\n",
       "  <thead>\n",
       "    <tr style=\"text-align: right;\">\n",
       "      <th></th>\n",
       "      <th>country</th>\n",
       "      <th>description</th>\n",
       "      <th>designation</th>\n",
       "      <th>points</th>\n",
       "      <th>price</th>\n",
       "      <th>province</th>\n",
       "      <th>region_1</th>\n",
       "      <th>region_2</th>\n",
       "      <th>taster_name</th>\n",
       "      <th>taster_twitter_handle</th>\n",
       "      <th>title</th>\n",
       "      <th>variety</th>\n",
       "      <th>winery</th>\n",
       "    </tr>\n",
       "  </thead>\n",
       "  <tbody>\n",
       "    <tr>\n",
       "      <th>0</th>\n",
       "      <td>Italy</td>\n",
       "      <td>Aromas include tropical fruit, broom, brimston...</td>\n",
       "      <td>Vulkà Bianco</td>\n",
       "      <td>87</td>\n",
       "      <td>NaN</td>\n",
       "      <td>Sicily &amp; Sardinia</td>\n",
       "      <td>Etna</td>\n",
       "      <td>NaN</td>\n",
       "      <td>Kerin O’Keefe</td>\n",
       "      <td>@kerinokeefe</td>\n",
       "      <td>Nicosia 2013 Vulkà Bianco  (Etna)</td>\n",
       "      <td>White Blend</td>\n",
       "      <td>Nicosia</td>\n",
       "    </tr>\n",
       "    <tr>\n",
       "      <th>1</th>\n",
       "      <td>Portugal</td>\n",
       "      <td>This is ripe and fruity, a wine that is smooth...</td>\n",
       "      <td>Avidagos</td>\n",
       "      <td>87</td>\n",
       "      <td>15.0</td>\n",
       "      <td>Douro</td>\n",
       "      <td>NaN</td>\n",
       "      <td>NaN</td>\n",
       "      <td>Roger Voss</td>\n",
       "      <td>@vossroger</td>\n",
       "      <td>Quinta dos Avidagos 2011 Avidagos Red (Douro)</td>\n",
       "      <td>Portuguese Red</td>\n",
       "      <td>Quinta dos Avidagos</td>\n",
       "    </tr>\n",
       "    <tr>\n",
       "      <th>2</th>\n",
       "      <td>US</td>\n",
       "      <td>Tart and snappy, the flavors of lime flesh and...</td>\n",
       "      <td>NaN</td>\n",
       "      <td>87</td>\n",
       "      <td>14.0</td>\n",
       "      <td>Oregon</td>\n",
       "      <td>Willamette Valley</td>\n",
       "      <td>Willamette Valley</td>\n",
       "      <td>Paul Gregutt</td>\n",
       "      <td>@paulgwine</td>\n",
       "      <td>Rainstorm 2013 Pinot Gris (Willamette Valley)</td>\n",
       "      <td>Pinot Gris</td>\n",
       "      <td>Rainstorm</td>\n",
       "    </tr>\n",
       "    <tr>\n",
       "      <th>3</th>\n",
       "      <td>US</td>\n",
       "      <td>Pineapple rind, lemon pith and orange blossom ...</td>\n",
       "      <td>Reserve Late Harvest</td>\n",
       "      <td>87</td>\n",
       "      <td>13.0</td>\n",
       "      <td>Michigan</td>\n",
       "      <td>Lake Michigan Shore</td>\n",
       "      <td>NaN</td>\n",
       "      <td>Alexander Peartree</td>\n",
       "      <td>NaN</td>\n",
       "      <td>St. Julian 2013 Reserve Late Harvest Riesling ...</td>\n",
       "      <td>Riesling</td>\n",
       "      <td>St. Julian</td>\n",
       "    </tr>\n",
       "    <tr>\n",
       "      <th>4</th>\n",
       "      <td>US</td>\n",
       "      <td>Much like the regular bottling from 2012, this...</td>\n",
       "      <td>Vintner's Reserve Wild Child Block</td>\n",
       "      <td>87</td>\n",
       "      <td>65.0</td>\n",
       "      <td>Oregon</td>\n",
       "      <td>Willamette Valley</td>\n",
       "      <td>Willamette Valley</td>\n",
       "      <td>Paul Gregutt</td>\n",
       "      <td>@paulgwine</td>\n",
       "      <td>Sweet Cheeks 2012 Vintner's Reserve Wild Child...</td>\n",
       "      <td>Pinot Noir</td>\n",
       "      <td>Sweet Cheeks</td>\n",
       "    </tr>\n",
       "  </tbody>\n",
       "</table>\n",
       "</div>"
      ],
      "text/plain": [
       "    country                                        description  \\\n",
       "0     Italy  Aromas include tropical fruit, broom, brimston...   \n",
       "1  Portugal  This is ripe and fruity, a wine that is smooth...   \n",
       "2        US  Tart and snappy, the flavors of lime flesh and...   \n",
       "3        US  Pineapple rind, lemon pith and orange blossom ...   \n",
       "4        US  Much like the regular bottling from 2012, this...   \n",
       "\n",
       "                          designation  points  price           province  \\\n",
       "0                        Vulkà Bianco      87    NaN  Sicily & Sardinia   \n",
       "1                            Avidagos      87   15.0              Douro   \n",
       "2                                 NaN      87   14.0             Oregon   \n",
       "3                Reserve Late Harvest      87   13.0           Michigan   \n",
       "4  Vintner's Reserve Wild Child Block      87   65.0             Oregon   \n",
       "\n",
       "              region_1           region_2         taster_name  \\\n",
       "0                 Etna                NaN       Kerin O’Keefe   \n",
       "1                  NaN                NaN          Roger Voss   \n",
       "2    Willamette Valley  Willamette Valley        Paul Gregutt   \n",
       "3  Lake Michigan Shore                NaN  Alexander Peartree   \n",
       "4    Willamette Valley  Willamette Valley        Paul Gregutt   \n",
       "\n",
       "  taster_twitter_handle                                              title  \\\n",
       "0          @kerinokeefe                  Nicosia 2013 Vulkà Bianco  (Etna)   \n",
       "1            @vossroger      Quinta dos Avidagos 2011 Avidagos Red (Douro)   \n",
       "2           @paulgwine       Rainstorm 2013 Pinot Gris (Willamette Valley)   \n",
       "3                   NaN  St. Julian 2013 Reserve Late Harvest Riesling ...   \n",
       "4           @paulgwine   Sweet Cheeks 2012 Vintner's Reserve Wild Child...   \n",
       "\n",
       "          variety               winery  \n",
       "0     White Blend              Nicosia  \n",
       "1  Portuguese Red  Quinta dos Avidagos  \n",
       "2      Pinot Gris            Rainstorm  \n",
       "3        Riesling           St. Julian  \n",
       "4      Pinot Noir         Sweet Cheeks  "
      ]
     },
     "execution_count": 1,
     "metadata": {},
     "output_type": "execute_result"
    }
   ],
   "source": [
    "import pandas as pd\n",
    "pd.set_option(\"display.max_rows\", 5)\n",
    "reviews = pd.read_csv(\"../input/wine-reviews/winemag-data-130k-v2.csv\", index_col=0)\n",
    "\n",
    "from learntools.core import binder; binder.bind(globals())\n",
    "from learntools.pandas.summary_functions_and_maps import *\n",
    "print(\"Setup complete.\")\n",
    "\n",
    "reviews.head()"
   ]
  },
  {
   "cell_type": "markdown",
   "id": "4a5b9aaf",
   "metadata": {
    "papermill": {
     "duration": 0.005786,
     "end_time": "2025-05-13T22:26:48.913077",
     "exception": false,
     "start_time": "2025-05-13T22:26:48.907291",
     "status": "completed"
    },
    "tags": []
   },
   "source": [
    "# Exercises"
   ]
  },
  {
   "cell_type": "markdown",
   "id": "fa14d3a1",
   "metadata": {
    "papermill": {
     "duration": 0.005244,
     "end_time": "2025-05-13T22:26:48.924432",
     "exception": false,
     "start_time": "2025-05-13T22:26:48.919188",
     "status": "completed"
    },
    "tags": []
   },
   "source": [
    "## 1.\n",
    "\n",
    "What is the median of the `points` column in the `reviews` DataFrame?"
   ]
  },
  {
   "cell_type": "code",
   "execution_count": 2,
   "id": "780d5a54",
   "metadata": {
    "execution": {
     "iopub.execute_input": "2025-05-13T22:26:48.937967Z",
     "iopub.status.busy": "2025-05-13T22:26:48.937621Z",
     "iopub.status.idle": "2025-05-13T22:26:48.947417Z",
     "shell.execute_reply": "2025-05-13T22:26:48.945913Z"
    },
    "papermill": {
     "duration": 0.018383,
     "end_time": "2025-05-13T22:26:48.949412",
     "exception": false,
     "start_time": "2025-05-13T22:26:48.931029",
     "status": "completed"
    },
    "tags": []
   },
   "outputs": [
    {
     "data": {
      "application/javascript": [
       "parent.postMessage({\"jupyterEvent\": \"custom.exercise_interaction\", \"data\": {\"outcomeType\": 1, \"valueTowardsCompletion\": 0.14285714285714285, \"interactionType\": 1, \"questionType\": 1, \"questionId\": \"1_MedianPoints\", \"learnToolsVersion\": \"0.3.5\", \"failureMessage\": \"\", \"exceptionClass\": \"\", \"trace\": \"\"}}, \"*\")"
      ],
      "text/plain": [
       "<IPython.core.display.Javascript object>"
      ]
     },
     "metadata": {},
     "output_type": "display_data"
    },
    {
     "data": {
      "text/markdown": [
       "<span style=\"color:#33cc33\">Correct</span>"
      ],
      "text/plain": [
       "Correct"
      ]
     },
     "metadata": {},
     "output_type": "display_data"
    }
   ],
   "source": [
    "median_points = reviews.points.median()\n",
    "\n",
    "# Check your answer\n",
    "q1.check()"
   ]
  },
  {
   "cell_type": "code",
   "execution_count": 3,
   "id": "50edcf65",
   "metadata": {
    "execution": {
     "iopub.execute_input": "2025-05-13T22:26:48.963279Z",
     "iopub.status.busy": "2025-05-13T22:26:48.962615Z",
     "iopub.status.idle": "2025-05-13T22:26:48.968894Z",
     "shell.execute_reply": "2025-05-13T22:26:48.967002Z"
    },
    "papermill": {
     "duration": 0.015909,
     "end_time": "2025-05-13T22:26:48.971202",
     "exception": false,
     "start_time": "2025-05-13T22:26:48.955293",
     "status": "completed"
    },
    "tags": []
   },
   "outputs": [],
   "source": [
    "#q1.hint()\n",
    "# q1.solution()"
   ]
  },
  {
   "cell_type": "markdown",
   "id": "c89060e6",
   "metadata": {
    "papermill": {
     "duration": 0.006027,
     "end_time": "2025-05-13T22:26:48.984213",
     "exception": false,
     "start_time": "2025-05-13T22:26:48.978186",
     "status": "completed"
    },
    "tags": []
   },
   "source": [
    "## 2. \n",
    "What countries are represented in the dataset? (Your answer should not include any duplicates.)"
   ]
  },
  {
   "cell_type": "code",
   "execution_count": 4,
   "id": "b12bcfa5",
   "metadata": {
    "execution": {
     "iopub.execute_input": "2025-05-13T22:26:48.997914Z",
     "iopub.status.busy": "2025-05-13T22:26:48.997551Z",
     "iopub.status.idle": "2025-05-13T22:26:49.012633Z",
     "shell.execute_reply": "2025-05-13T22:26:49.011054Z"
    },
    "papermill": {
     "duration": 0.024329,
     "end_time": "2025-05-13T22:26:49.014929",
     "exception": false,
     "start_time": "2025-05-13T22:26:48.990600",
     "status": "completed"
    },
    "tags": []
   },
   "outputs": [
    {
     "data": {
      "application/javascript": [
       "parent.postMessage({\"jupyterEvent\": \"custom.exercise_interaction\", \"data\": {\"outcomeType\": 1, \"valueTowardsCompletion\": 0.14285714285714285, \"interactionType\": 1, \"questionType\": 2, \"questionId\": \"2_UniqueCountries\", \"learnToolsVersion\": \"0.3.5\", \"failureMessage\": \"\", \"exceptionClass\": \"\", \"trace\": \"\"}}, \"*\")"
      ],
      "text/plain": [
       "<IPython.core.display.Javascript object>"
      ]
     },
     "metadata": {},
     "output_type": "display_data"
    },
    {
     "data": {
      "text/markdown": [
       "<span style=\"color:#33cc33\">Correct</span>"
      ],
      "text/plain": [
       "Correct"
      ]
     },
     "metadata": {},
     "output_type": "display_data"
    }
   ],
   "source": [
    "countries = reviews.country.unique()\n",
    "\n",
    "# Check your answer\n",
    "q2.check()"
   ]
  },
  {
   "cell_type": "code",
   "execution_count": 5,
   "id": "a34df282",
   "metadata": {
    "execution": {
     "iopub.execute_input": "2025-05-13T22:26:49.028351Z",
     "iopub.status.busy": "2025-05-13T22:26:49.028022Z",
     "iopub.status.idle": "2025-05-13T22:26:49.033817Z",
     "shell.execute_reply": "2025-05-13T22:26:49.032240Z"
    },
    "papermill": {
     "duration": 0.015809,
     "end_time": "2025-05-13T22:26:49.036220",
     "exception": false,
     "start_time": "2025-05-13T22:26:49.020411",
     "status": "completed"
    },
    "tags": []
   },
   "outputs": [],
   "source": [
    "#q2.hint()\n",
    "# q2.solution()"
   ]
  },
  {
   "cell_type": "markdown",
   "id": "1060bf0a",
   "metadata": {
    "papermill": {
     "duration": 0.006799,
     "end_time": "2025-05-13T22:26:49.049664",
     "exception": false,
     "start_time": "2025-05-13T22:26:49.042865",
     "status": "completed"
    },
    "tags": []
   },
   "source": [
    "## 3.\n",
    "How often does each country appear in the dataset? Create a Series `reviews_per_country` mapping countries to the count of reviews of wines from that country."
   ]
  },
  {
   "cell_type": "code",
   "execution_count": 6,
   "id": "1b2f4dc5",
   "metadata": {
    "execution": {
     "iopub.execute_input": "2025-05-13T22:26:49.062733Z",
     "iopub.status.busy": "2025-05-13T22:26:49.062412Z",
     "iopub.status.idle": "2025-05-13T22:26:49.082283Z",
     "shell.execute_reply": "2025-05-13T22:26:49.081369Z"
    },
    "papermill": {
     "duration": 0.028423,
     "end_time": "2025-05-13T22:26:49.083965",
     "exception": false,
     "start_time": "2025-05-13T22:26:49.055542",
     "status": "completed"
    },
    "tags": []
   },
   "outputs": [
    {
     "data": {
      "application/javascript": [
       "parent.postMessage({\"jupyterEvent\": \"custom.exercise_interaction\", \"data\": {\"outcomeType\": 1, \"valueTowardsCompletion\": 0.14285714285714285, \"interactionType\": 1, \"questionType\": 1, \"questionId\": \"3_ReviewsPerCountry\", \"learnToolsVersion\": \"0.3.5\", \"failureMessage\": \"\", \"exceptionClass\": \"\", \"trace\": \"\"}}, \"*\")"
      ],
      "text/plain": [
       "<IPython.core.display.Javascript object>"
      ]
     },
     "metadata": {},
     "output_type": "display_data"
    },
    {
     "data": {
      "text/markdown": [
       "<span style=\"color:#33cc33\">Correct</span>"
      ],
      "text/plain": [
       "Correct"
      ]
     },
     "metadata": {},
     "output_type": "display_data"
    }
   ],
   "source": [
    "reviews_per_country = reviews.country.value_counts()\n",
    "# Check your answer\n",
    "q3.check()"
   ]
  },
  {
   "cell_type": "code",
   "execution_count": 7,
   "id": "6616e0b0",
   "metadata": {
    "execution": {
     "iopub.execute_input": "2025-05-13T22:26:49.096548Z",
     "iopub.status.busy": "2025-05-13T22:26:49.096265Z",
     "iopub.status.idle": "2025-05-13T22:26:49.100934Z",
     "shell.execute_reply": "2025-05-13T22:26:49.099963Z"
    },
    "papermill": {
     "duration": 0.012689,
     "end_time": "2025-05-13T22:26:49.102512",
     "exception": false,
     "start_time": "2025-05-13T22:26:49.089823",
     "status": "completed"
    },
    "tags": []
   },
   "outputs": [],
   "source": [
    "# q3.hint()\n",
    "# q3.solution()"
   ]
  },
  {
   "cell_type": "markdown",
   "id": "633aead8",
   "metadata": {
    "papermill": {
     "duration": 0.005875,
     "end_time": "2025-05-13T22:26:49.114580",
     "exception": false,
     "start_time": "2025-05-13T22:26:49.108705",
     "status": "completed"
    },
    "tags": []
   },
   "source": [
    "## 4.\n",
    "Create variable `centered_price` containing a version of the `price` column with the mean price subtracted.\n",
    "\n",
    "(Note: this 'centering' transformation is a common preprocessing step before applying various machine learning algorithms.) "
   ]
  },
  {
   "cell_type": "code",
   "execution_count": 8,
   "id": "175660e1",
   "metadata": {
    "execution": {
     "iopub.execute_input": "2025-05-13T22:26:49.127624Z",
     "iopub.status.busy": "2025-05-13T22:26:49.127307Z",
     "iopub.status.idle": "2025-05-13T22:26:49.137755Z",
     "shell.execute_reply": "2025-05-13T22:26:49.136759Z"
    },
    "papermill": {
     "duration": 0.019401,
     "end_time": "2025-05-13T22:26:49.139658",
     "exception": false,
     "start_time": "2025-05-13T22:26:49.120257",
     "status": "completed"
    },
    "tags": []
   },
   "outputs": [
    {
     "data": {
      "application/javascript": [
       "parent.postMessage({\"jupyterEvent\": \"custom.exercise_interaction\", \"data\": {\"outcomeType\": 1, \"valueTowardsCompletion\": 0.14285714285714285, \"interactionType\": 1, \"questionType\": 1, \"questionId\": \"4_CenteredPrice\", \"learnToolsVersion\": \"0.3.5\", \"failureMessage\": \"\", \"exceptionClass\": \"\", \"trace\": \"\"}}, \"*\")"
      ],
      "text/plain": [
       "<IPython.core.display.Javascript object>"
      ]
     },
     "metadata": {},
     "output_type": "display_data"
    },
    {
     "data": {
      "text/markdown": [
       "<span style=\"color:#33cc33\">Correct</span>"
      ],
      "text/plain": [
       "Correct"
      ]
     },
     "metadata": {},
     "output_type": "display_data"
    }
   ],
   "source": [
    "centered_price = reviews.price - reviews.price.mean()\n",
    "\n",
    "# Check your answer\n",
    "q4.check()"
   ]
  },
  {
   "cell_type": "code",
   "execution_count": 9,
   "id": "9e37e5c2",
   "metadata": {
    "execution": {
     "iopub.execute_input": "2025-05-13T22:26:49.152649Z",
     "iopub.status.busy": "2025-05-13T22:26:49.152374Z",
     "iopub.status.idle": "2025-05-13T22:26:49.156784Z",
     "shell.execute_reply": "2025-05-13T22:26:49.155518Z"
    },
    "papermill": {
     "duration": 0.013348,
     "end_time": "2025-05-13T22:26:49.158857",
     "exception": false,
     "start_time": "2025-05-13T22:26:49.145509",
     "status": "completed"
    },
    "tags": []
   },
   "outputs": [],
   "source": [
    "#q4.hint()\n",
    "# q4.solution()"
   ]
  },
  {
   "cell_type": "markdown",
   "id": "91e6c395",
   "metadata": {
    "papermill": {
     "duration": 0.005421,
     "end_time": "2025-05-13T22:26:49.170165",
     "exception": false,
     "start_time": "2025-05-13T22:26:49.164744",
     "status": "completed"
    },
    "tags": []
   },
   "source": [
    "## 5.\n",
    "I'm an economical wine buyer. Which wine is the \"best bargain\"? Create a variable `bargain_wine` with the title of the wine with the highest points-to-price ratio in the dataset."
   ]
  },
  {
   "cell_type": "code",
   "execution_count": 10,
   "id": "23a571de",
   "metadata": {
    "execution": {
     "iopub.execute_input": "2025-05-13T22:26:49.186907Z",
     "iopub.status.busy": "2025-05-13T22:26:49.186539Z",
     "iopub.status.idle": "2025-05-13T22:26:49.213719Z",
     "shell.execute_reply": "2025-05-13T22:26:49.212217Z"
    },
    "papermill": {
     "duration": 0.03807,
     "end_time": "2025-05-13T22:26:49.215583",
     "exception": false,
     "start_time": "2025-05-13T22:26:49.177513",
     "status": "completed"
    },
    "tags": []
   },
   "outputs": [
    {
     "data": {
      "application/javascript": [
       "parent.postMessage({\"jupyterEvent\": \"custom.exercise_interaction\", \"data\": {\"outcomeType\": 1, \"valueTowardsCompletion\": 0.14285714285714285, \"interactionType\": 1, \"questionType\": 2, \"questionId\": \"5_BargainWine\", \"learnToolsVersion\": \"0.3.5\", \"failureMessage\": \"\", \"exceptionClass\": \"\", \"trace\": \"\"}}, \"*\")"
      ],
      "text/plain": [
       "<IPython.core.display.Javascript object>"
      ]
     },
     "metadata": {},
     "output_type": "display_data"
    },
    {
     "data": {
      "text/markdown": [
       "<span style=\"color:#33cc33\">Correct</span>"
      ],
      "text/plain": [
       "Correct"
      ]
     },
     "metadata": {},
     "output_type": "display_data"
    }
   ],
   "source": [
    "bargain_wine = reviews.title[(reviews.points / reviews.price).idxmax()]\n",
    "# Check your answer\n",
    "q5.check()"
   ]
  },
  {
   "cell_type": "code",
   "execution_count": 11,
   "id": "ef55811e",
   "metadata": {
    "execution": {
     "iopub.execute_input": "2025-05-13T22:26:49.232026Z",
     "iopub.status.busy": "2025-05-13T22:26:49.231621Z",
     "iopub.status.idle": "2025-05-13T22:26:49.240842Z",
     "shell.execute_reply": "2025-05-13T22:26:49.239204Z"
    },
    "papermill": {
     "duration": 0.020419,
     "end_time": "2025-05-13T22:26:49.243452",
     "exception": false,
     "start_time": "2025-05-13T22:26:49.223033",
     "status": "completed"
    },
    "tags": []
   },
   "outputs": [
    {
     "data": {
      "application/javascript": [
       "parent.postMessage({\"jupyterEvent\": \"custom.exercise_interaction\", \"data\": {\"interactionType\": 3, \"questionType\": 2, \"questionId\": \"5_BargainWine\", \"learnToolsVersion\": \"0.3.5\", \"valueTowardsCompletion\": 0.0, \"failureMessage\": \"\", \"exceptionClass\": \"\", \"trace\": \"\", \"outcomeType\": 4}}, \"*\")"
      ],
      "text/plain": [
       "<IPython.core.display.Javascript object>"
      ]
     },
     "metadata": {},
     "output_type": "display_data"
    },
    {
     "data": {
      "text/markdown": [
       "<span style=\"color:#33cc99\">Solution:</span> \n",
       "```python\n",
       "bargain_idx = (reviews.points / reviews.price).idxmax()\n",
       "bargain_wine = reviews.loc[bargain_idx, 'title']\n",
       "```"
      ],
      "text/plain": [
       "Solution: \n",
       "```python\n",
       "bargain_idx = (reviews.points / reviews.price).idxmax()\n",
       "bargain_wine = reviews.loc[bargain_idx, 'title']\n",
       "```"
      ]
     },
     "metadata": {},
     "output_type": "display_data"
    }
   ],
   "source": [
    "# q5.hint()\n",
    "q5.solution()"
   ]
  },
  {
   "cell_type": "markdown",
   "id": "1b0dddd0",
   "metadata": {
    "papermill": {
     "duration": 0.007882,
     "end_time": "2025-05-13T22:26:49.259390",
     "exception": false,
     "start_time": "2025-05-13T22:26:49.251508",
     "status": "completed"
    },
    "tags": []
   },
   "source": [
    "## 6.\n",
    "There are only so many words you can use when describing a bottle of wine. Is a wine more likely to be \"tropical\" or \"fruity\"? Create a Series `descriptor_counts` counting how many times each of these two words appears in the `description` column in the dataset. (For simplicity, let's ignore the capitalized versions of these words.)"
   ]
  },
  {
   "cell_type": "code",
   "execution_count": 12,
   "id": "0c4f2b13",
   "metadata": {
    "execution": {
     "iopub.execute_input": "2025-05-13T22:26:49.274445Z",
     "iopub.status.busy": "2025-05-13T22:26:49.274126Z",
     "iopub.status.idle": "2025-05-13T22:26:49.410718Z",
     "shell.execute_reply": "2025-05-13T22:26:49.409544Z"
    },
    "papermill": {
     "duration": 0.14603,
     "end_time": "2025-05-13T22:26:49.412481",
     "exception": false,
     "start_time": "2025-05-13T22:26:49.266451",
     "status": "completed"
    },
    "tags": []
   },
   "outputs": [
    {
     "data": {
      "application/javascript": [
       "parent.postMessage({\"jupyterEvent\": \"custom.exercise_interaction\", \"data\": {\"outcomeType\": 1, \"valueTowardsCompletion\": 0.14285714285714285, \"interactionType\": 1, \"questionType\": 1, \"questionId\": \"6_DescriptorCounts\", \"learnToolsVersion\": \"0.3.5\", \"failureMessage\": \"\", \"exceptionClass\": \"\", \"trace\": \"\"}}, \"*\")"
      ],
      "text/plain": [
       "<IPython.core.display.Javascript object>"
      ]
     },
     "metadata": {},
     "output_type": "display_data"
    },
    {
     "data": {
      "text/markdown": [
       "<span style=\"color:#33cc33\">Correct</span>"
      ],
      "text/plain": [
       "Correct"
      ]
     },
     "metadata": {},
     "output_type": "display_data"
    }
   ],
   "source": [
    "tropical = reviews.description.map(lambda desc: 'tropical' in desc).sum()\n",
    "fruity = reviews.description.map(lambda desc: 'fruity' in desc).sum()\n",
    "descriptor_counts = pd.Series([tropical, fruity], index=['tropical', 'fruity'])\n",
    "# Check your answer\n",
    "q6.check()"
   ]
  },
  {
   "cell_type": "code",
   "execution_count": 13,
   "id": "87052d95",
   "metadata": {
    "execution": {
     "iopub.execute_input": "2025-05-13T22:26:49.426436Z",
     "iopub.status.busy": "2025-05-13T22:26:49.426142Z",
     "iopub.status.idle": "2025-05-13T22:26:49.430500Z",
     "shell.execute_reply": "2025-05-13T22:26:49.429285Z"
    },
    "papermill": {
     "duration": 0.013746,
     "end_time": "2025-05-13T22:26:49.432609",
     "exception": false,
     "start_time": "2025-05-13T22:26:49.418863",
     "status": "completed"
    },
    "tags": []
   },
   "outputs": [],
   "source": [
    "# q6.hint()\n",
    "# q6.solution()"
   ]
  },
  {
   "cell_type": "markdown",
   "id": "2374a7dd",
   "metadata": {
    "papermill": {
     "duration": 0.005931,
     "end_time": "2025-05-13T22:26:49.445403",
     "exception": false,
     "start_time": "2025-05-13T22:26:49.439472",
     "status": "completed"
    },
    "tags": []
   },
   "source": [
    "## 7.\n",
    "We'd like to host these wine reviews on our website, but a rating system ranging from 80 to 100 points is too hard to understand - we'd like to translate them into simple star ratings. A score of 95 or higher counts as 3 stars, a score of at least 85 but less than 95 is 2 stars. Any other score is 1 star.\n",
    "\n",
    "Also, the Canadian Vintners Association bought a lot of ads on the site, so any wines from Canada should automatically get 3 stars, regardless of points.\n",
    "\n",
    "Create a series `star_ratings` with the number of stars corresponding to each review in the dataset."
   ]
  },
  {
   "cell_type": "code",
   "execution_count": 14,
   "id": "60ef902d",
   "metadata": {
    "execution": {
     "iopub.execute_input": "2025-05-13T22:26:49.459341Z",
     "iopub.status.busy": "2025-05-13T22:26:49.458972Z",
     "iopub.status.idle": "2025-05-13T22:26:51.159881Z",
     "shell.execute_reply": "2025-05-13T22:26:51.158614Z"
    },
    "papermill": {
     "duration": 1.710577,
     "end_time": "2025-05-13T22:26:51.162413",
     "exception": false,
     "start_time": "2025-05-13T22:26:49.451836",
     "status": "completed"
    },
    "tags": []
   },
   "outputs": [
    {
     "data": {
      "application/javascript": [
       "parent.postMessage({\"jupyterEvent\": \"custom.exercise_interaction\", \"data\": {\"outcomeType\": 1, \"valueTowardsCompletion\": 0.14285714285714285, \"interactionType\": 1, \"questionType\": 1, \"questionId\": \"7_StarRatings\", \"learnToolsVersion\": \"0.3.5\", \"failureMessage\": \"\", \"exceptionClass\": \"\", \"trace\": \"\"}}, \"*\")"
      ],
      "text/plain": [
       "<IPython.core.display.Javascript object>"
      ]
     },
     "metadata": {},
     "output_type": "display_data"
    },
    {
     "data": {
      "text/markdown": [
       "<span style=\"color:#33cc33\">Correct</span>"
      ],
      "text/plain": [
       "Correct"
      ]
     },
     "metadata": {},
     "output_type": "display_data"
    }
   ],
   "source": [
    "def rating_system(row):\n",
    "    score = row.points\n",
    "    country = row.country\n",
    "    \n",
    "    if country == 'Canada' or score >=95:\n",
    "        stars = 3\n",
    "    elif score >= 85:\n",
    "        stars = 2\n",
    "    else:\n",
    "        stars = 1\n",
    "    return stars\n",
    "    \n",
    "star_ratings = reviews.apply(rating_system, axis='columns')\n",
    "\n",
    "# Check your answer\n",
    "q7.check()"
   ]
  },
  {
   "cell_type": "code",
   "execution_count": 15,
   "id": "53804e49",
   "metadata": {
    "execution": {
     "iopub.execute_input": "2025-05-13T22:26:51.176722Z",
     "iopub.status.busy": "2025-05-13T22:26:51.176370Z",
     "iopub.status.idle": "2025-05-13T22:26:51.182333Z",
     "shell.execute_reply": "2025-05-13T22:26:51.181039Z"
    },
    "papermill": {
     "duration": 0.015442,
     "end_time": "2025-05-13T22:26:51.184233",
     "exception": false,
     "start_time": "2025-05-13T22:26:51.168791",
     "status": "completed"
    },
    "tags": []
   },
   "outputs": [],
   "source": [
    "# q7.hint()\n",
    "# q7.solution()"
   ]
  },
  {
   "cell_type": "markdown",
   "id": "df0d8f58",
   "metadata": {
    "papermill": {
     "duration": 0.006063,
     "end_time": "2025-05-13T22:26:51.197351",
     "exception": false,
     "start_time": "2025-05-13T22:26:51.191288",
     "status": "completed"
    },
    "tags": []
   },
   "source": [
    "# Keep going\n",
    "Continue to **[grouping and sorting](https://www.kaggle.com/residentmario/grouping-and-sorting)**."
   ]
  },
  {
   "cell_type": "markdown",
   "id": "5b4c06e5",
   "metadata": {
    "papermill": {
     "duration": 0.006029,
     "end_time": "2025-05-13T22:26:51.210165",
     "exception": false,
     "start_time": "2025-05-13T22:26:51.204136",
     "status": "completed"
    },
    "tags": []
   },
   "source": [
    "---\n",
    "\n",
    "\n",
    "\n",
    "\n",
    "*Have questions or comments? Visit the [course discussion forum](https://www.kaggle.com/learn/pandas/discussion) to chat with other learners.*"
   ]
  }
 ],
 "metadata": {
  "kaggle": {
   "accelerator": "none",
   "dataSources": [
    {
     "datasetId": 655,
     "sourceId": 1252,
     "sourceType": "datasetVersion"
    },
    {
     "datasetId": 2321,
     "sourceId": 3919,
     "sourceType": "datasetVersion"
    },
    {
     "datasetId": 2894,
     "sourceId": 4877,
     "sourceType": "datasetVersion"
    },
    {
     "datasetId": 3491,
     "sourceId": 5624,
     "sourceType": "datasetVersion"
    },
    {
     "datasetId": 1442,
     "sourceId": 8172,
     "sourceType": "datasetVersion"
    },
    {
     "datasetId": 9366,
     "sourceId": 13206,
     "sourceType": "datasetVersion"
    },
    {
     "datasetId": 179555,
     "sourceId": 403916,
     "sourceType": "datasetVersion"
    },
    {
     "datasetId": 4549,
     "sourceId": 466349,
     "sourceType": "datasetVersion"
    },
    {
     "datasetId": 2478,
     "sourceId": 1151655,
     "sourceType": "datasetVersion"
    },
    {
     "datasetId": 10128,
     "sourceId": 5438389,
     "sourceType": "datasetVersion"
    }
   ],
   "isGpuEnabled": false,
   "isInternetEnabled": false,
   "language": "python",
   "sourceType": "notebook"
  },
  "kernelspec": {
   "display_name": "Python 3",
   "language": "python",
   "name": "python3"
  },
  "language_info": {
   "codemirror_mode": {
    "name": "ipython",
    "version": 3
   },
   "file_extension": ".py",
   "mimetype": "text/x-python",
   "name": "python",
   "nbconvert_exporter": "python",
   "pygments_lexer": "ipython3",
   "version": "3.11.11"
  },
  "papermill": {
   "default_parameters": {},
   "duration": 16.41575,
   "end_time": "2025-05-13T22:26:51.837535",
   "environment_variables": {},
   "exception": null,
   "input_path": "__notebook__.ipynb",
   "output_path": "__notebook__.ipynb",
   "parameters": {},
   "start_time": "2025-05-13T22:26:35.421785",
   "version": "2.6.0"
  }
 },
 "nbformat": 4,
 "nbformat_minor": 5
}
