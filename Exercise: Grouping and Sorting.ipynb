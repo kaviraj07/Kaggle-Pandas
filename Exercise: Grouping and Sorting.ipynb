{
 "cells": [
  {
   "cell_type": "markdown",
   "id": "59ba6163",
   "metadata": {
    "papermill": {
     "duration": 0.005424,
     "end_time": "2025-05-13T22:28:55.815521",
     "exception": false,
     "start_time": "2025-05-13T22:28:55.810097",
     "status": "completed"
    },
    "tags": []
   },
   "source": [
    "**This notebook is an exercise in the [Pandas](https://www.kaggle.com/learn/pandas) course.  You can reference the tutorial at [this link](https://www.kaggle.com/residentmario/grouping-and-sorting).**\n",
    "\n",
    "---\n"
   ]
  },
  {
   "cell_type": "markdown",
   "id": "c702345c",
   "metadata": {
    "papermill": {
     "duration": 0.004729,
     "end_time": "2025-05-13T22:28:55.825405",
     "exception": false,
     "start_time": "2025-05-13T22:28:55.820676",
     "status": "completed"
    },
    "tags": []
   },
   "source": [
    "# Introduction\n",
    "\n",
    "In these exercises we'll apply groupwise analysis to our dataset.\n",
    "\n",
    "Run the code cell below to load the data before running the exercises."
   ]
  },
  {
   "cell_type": "code",
   "execution_count": 1,
   "id": "e647ff8a",
   "metadata": {
    "execution": {
     "iopub.execute_input": "2025-05-13T22:28:55.835656Z",
     "iopub.status.busy": "2025-05-13T22:28:55.835001Z",
     "iopub.status.idle": "2025-05-13T22:29:01.348958Z",
     "shell.execute_reply": "2025-05-13T22:29:01.347752Z"
    },
    "papermill": {
     "duration": 5.521237,
     "end_time": "2025-05-13T22:29:01.350948",
     "exception": false,
     "start_time": "2025-05-13T22:28:55.829711",
     "status": "completed"
    },
    "tags": []
   },
   "outputs": [
    {
     "name": "stdout",
     "output_type": "stream",
     "text": [
      "Setup complete.\n"
     ]
    },
    {
     "name": "stderr",
     "output_type": "stream",
     "text": [
      "/usr/local/lib/python3.11/dist-packages/learntools/pandas/grouping_and_sorting.py:29: FutureWarning: The provided callable <built-in function min> is currently using SeriesGroupBy.min. In a future version of pandas, the provided callable will be used directly. To keep current behavior pass the string \"min\" instead.\n",
      "  _expected = reviews.groupby('variety').price.agg([min, max])\n",
      "/usr/local/lib/python3.11/dist-packages/learntools/pandas/grouping_and_sorting.py:29: FutureWarning: The provided callable <built-in function max> is currently using SeriesGroupBy.max. In a future version of pandas, the provided callable will be used directly. To keep current behavior pass the string \"max\" instead.\n",
      "  _expected = reviews.groupby('variety').price.agg([min, max])\n",
      "/usr/local/lib/python3.11/dist-packages/learntools/pandas/grouping_and_sorting.py:35: FutureWarning: The provided callable <built-in function min> is currently using SeriesGroupBy.min. In a future version of pandas, the provided callable will be used directly. To keep current behavior pass the string \"min\" instead.\n",
      "  _expected = reviews.groupby('variety').price.agg([min, max]).sort_values(by=['min', 'max'], ascending=False)\n",
      "/usr/local/lib/python3.11/dist-packages/learntools/pandas/grouping_and_sorting.py:35: FutureWarning: The provided callable <built-in function max> is currently using SeriesGroupBy.max. In a future version of pandas, the provided callable will be used directly. To keep current behavior pass the string \"max\" instead.\n",
      "  _expected = reviews.groupby('variety').price.agg([min, max]).sort_values(by=['min', 'max'], ascending=False)\n"
     ]
    }
   ],
   "source": [
    "import pandas as pd\n",
    "\n",
    "reviews = pd.read_csv(\"../input/wine-reviews/winemag-data-130k-v2.csv\", index_col=0)\n",
    "#pd.set_option(\"display.max_rows\", 5)\n",
    "\n",
    "from learntools.core import binder; binder.bind(globals())\n",
    "from learntools.pandas.grouping_and_sorting import *\n",
    "print(\"Setup complete.\")"
   ]
  },
  {
   "cell_type": "markdown",
   "id": "3a131975",
   "metadata": {
    "papermill": {
     "duration": 0.004379,
     "end_time": "2025-05-13T22:29:01.360481",
     "exception": false,
     "start_time": "2025-05-13T22:29:01.356102",
     "status": "completed"
    },
    "tags": []
   },
   "source": [
    "# Exercises"
   ]
  },
  {
   "cell_type": "markdown",
   "id": "333d56e1",
   "metadata": {
    "papermill": {
     "duration": 0.0042,
     "end_time": "2025-05-13T22:29:01.369189",
     "exception": false,
     "start_time": "2025-05-13T22:29:01.364989",
     "status": "completed"
    },
    "tags": []
   },
   "source": [
    "## 1.\n",
    "Who are the most common wine reviewers in the dataset? Create a `Series` whose index is the `taster_twitter_handle` category from the dataset, and whose values count how many reviews each person wrote."
   ]
  },
  {
   "cell_type": "code",
   "execution_count": 2,
   "id": "94d8d309",
   "metadata": {
    "execution": {
     "iopub.execute_input": "2025-05-13T22:29:01.379234Z",
     "iopub.status.busy": "2025-05-13T22:29:01.378859Z",
     "iopub.status.idle": "2025-05-13T22:29:01.398376Z",
     "shell.execute_reply": "2025-05-13T22:29:01.397564Z"
    },
    "papermill": {
     "duration": 0.026246,
     "end_time": "2025-05-13T22:29:01.399752",
     "exception": false,
     "start_time": "2025-05-13T22:29:01.373506",
     "status": "completed"
    },
    "tags": []
   },
   "outputs": [
    {
     "data": {
      "application/javascript": [
       "parent.postMessage({\"jupyterEvent\": \"custom.exercise_interaction\", \"data\": {\"outcomeType\": 1, \"valueTowardsCompletion\": 0.16666666666666666, \"interactionType\": 1, \"questionType\": 1, \"questionId\": \"1_ReviewsWritten\", \"learnToolsVersion\": \"0.3.5\", \"failureMessage\": \"\", \"exceptionClass\": \"\", \"trace\": \"\"}}, \"*\")"
      ],
      "text/plain": [
       "<IPython.core.display.Javascript object>"
      ]
     },
     "metadata": {},
     "output_type": "display_data"
    },
    {
     "data": {
      "text/markdown": [
       "<span style=\"color:#33cc33\">Correct:</span> \n",
       "\n",
       "\n",
       "```python\n",
       "reviews_written = reviews.groupby('taster_twitter_handle').size()\n",
       "```\n",
       "or\n",
       "```python\n",
       "reviews_written = reviews.groupby('taster_twitter_handle').taster_twitter_handle.count()\n",
       "```\n"
      ],
      "text/plain": [
       "Correct: \n",
       "\n",
       "\n",
       "```python\n",
       "reviews_written = reviews.groupby('taster_twitter_handle').size()\n",
       "```\n",
       "or\n",
       "```python\n",
       "reviews_written = reviews.groupby('taster_twitter_handle').taster_twitter_handle.count()\n",
       "```"
      ]
     },
     "metadata": {},
     "output_type": "display_data"
    }
   ],
   "source": [
    "# Your code here\n",
    "reviews_written = reviews.groupby(by='taster_twitter_handle').size()\n",
    "\n",
    "# Check your answer\n",
    "q1.check()"
   ]
  },
  {
   "cell_type": "code",
   "execution_count": 3,
   "id": "ebda420a",
   "metadata": {
    "execution": {
     "iopub.execute_input": "2025-05-13T22:29:01.410384Z",
     "iopub.status.busy": "2025-05-13T22:29:01.410054Z",
     "iopub.status.idle": "2025-05-13T22:29:01.414185Z",
     "shell.execute_reply": "2025-05-13T22:29:01.413254Z"
    },
    "papermill": {
     "duration": 0.010926,
     "end_time": "2025-05-13T22:29:01.415557",
     "exception": false,
     "start_time": "2025-05-13T22:29:01.404631",
     "status": "completed"
    },
    "tags": []
   },
   "outputs": [],
   "source": [
    "# q1.hint()\n",
    "# q1.solution()"
   ]
  },
  {
   "cell_type": "markdown",
   "id": "b7ecdf2b",
   "metadata": {
    "papermill": {
     "duration": 0.004333,
     "end_time": "2025-05-13T22:29:01.424831",
     "exception": false,
     "start_time": "2025-05-13T22:29:01.420498",
     "status": "completed"
    },
    "tags": []
   },
   "source": [
    "## 2.\n",
    "What is the best wine I can buy for a given amount of money? Create a `Series` whose index is wine prices and whose values is the maximum number of points a wine costing that much was given in a review. Sort the values by price, ascending (so that `4.0` dollars is at the top and `3300.0` dollars is at the bottom)."
   ]
  },
  {
   "cell_type": "code",
   "execution_count": 4,
   "id": "c7ffb27c",
   "metadata": {
    "execution": {
     "iopub.execute_input": "2025-05-13T22:29:01.435968Z",
     "iopub.status.busy": "2025-05-13T22:29:01.434826Z",
     "iopub.status.idle": "2025-05-13T22:29:01.448533Z",
     "shell.execute_reply": "2025-05-13T22:29:01.447627Z"
    },
    "papermill": {
     "duration": 0.020716,
     "end_time": "2025-05-13T22:29:01.450090",
     "exception": false,
     "start_time": "2025-05-13T22:29:01.429374",
     "status": "completed"
    },
    "tags": []
   },
   "outputs": [
    {
     "data": {
      "application/javascript": [
       "parent.postMessage({\"jupyterEvent\": \"custom.exercise_interaction\", \"data\": {\"outcomeType\": 1, \"valueTowardsCompletion\": 0.16666666666666666, \"interactionType\": 1, \"questionType\": 1, \"questionId\": \"2_BestRatingPerPrice\", \"learnToolsVersion\": \"0.3.5\", \"failureMessage\": \"\", \"exceptionClass\": \"\", \"trace\": \"\"}}, \"*\")"
      ],
      "text/plain": [
       "<IPython.core.display.Javascript object>"
      ]
     },
     "metadata": {},
     "output_type": "display_data"
    },
    {
     "data": {
      "text/markdown": [
       "<span style=\"color:#33cc33\">Correct</span>"
      ],
      "text/plain": [
       "Correct"
      ]
     },
     "metadata": {},
     "output_type": "display_data"
    }
   ],
   "source": [
    "best_rating_per_price = reviews.groupby(by='price')['points'].max().sort_index()\n",
    "\n",
    "# Check your answer\n",
    "q2.check()"
   ]
  },
  {
   "cell_type": "code",
   "execution_count": 5,
   "id": "41186a56",
   "metadata": {
    "execution": {
     "iopub.execute_input": "2025-05-13T22:29:01.461336Z",
     "iopub.status.busy": "2025-05-13T22:29:01.460775Z",
     "iopub.status.idle": "2025-05-13T22:29:01.464970Z",
     "shell.execute_reply": "2025-05-13T22:29:01.464057Z"
    },
    "papermill": {
     "duration": 0.011332,
     "end_time": "2025-05-13T22:29:01.466532",
     "exception": false,
     "start_time": "2025-05-13T22:29:01.455200",
     "status": "completed"
    },
    "tags": []
   },
   "outputs": [],
   "source": [
    "# q2.hint()\n",
    "# q2.solution()"
   ]
  },
  {
   "cell_type": "markdown",
   "id": "d07af57f",
   "metadata": {
    "papermill": {
     "duration": 0.004459,
     "end_time": "2025-05-13T22:29:01.475821",
     "exception": false,
     "start_time": "2025-05-13T22:29:01.471362",
     "status": "completed"
    },
    "tags": []
   },
   "source": [
    "## 3.\n",
    "What are the minimum and maximum prices for each `variety` of wine? Create a `DataFrame` whose index is the `variety` category from the dataset and whose values are the `min` and `max` values thereof."
   ]
  },
  {
   "cell_type": "code",
   "execution_count": 6,
   "id": "704cb6f6",
   "metadata": {
    "execution": {
     "iopub.execute_input": "2025-05-13T22:29:01.488873Z",
     "iopub.status.busy": "2025-05-13T22:29:01.488590Z",
     "iopub.status.idle": "2025-05-13T22:29:01.512081Z",
     "shell.execute_reply": "2025-05-13T22:29:01.511206Z"
    },
    "papermill": {
     "duration": 0.032918,
     "end_time": "2025-05-13T22:29:01.513605",
     "exception": false,
     "start_time": "2025-05-13T22:29:01.480687",
     "status": "completed"
    },
    "tags": []
   },
   "outputs": [
    {
     "name": "stderr",
     "output_type": "stream",
     "text": [
      "/tmp/ipykernel_13/533615308.py:1: FutureWarning: The provided callable <built-in function min> is currently using SeriesGroupBy.min. In a future version of pandas, the provided callable will be used directly. To keep current behavior pass the string \"min\" instead.\n",
      "  price_extremes = reviews.groupby('variety').price.agg([min,max])\n",
      "/tmp/ipykernel_13/533615308.py:1: FutureWarning: The provided callable <built-in function max> is currently using SeriesGroupBy.max. In a future version of pandas, the provided callable will be used directly. To keep current behavior pass the string \"max\" instead.\n",
      "  price_extremes = reviews.groupby('variety').price.agg([min,max])\n"
     ]
    },
    {
     "data": {
      "application/javascript": [
       "parent.postMessage({\"jupyterEvent\": \"custom.exercise_interaction\", \"data\": {\"outcomeType\": 1, \"valueTowardsCompletion\": 0.16666666666666666, \"interactionType\": 1, \"questionType\": 1, \"questionId\": \"3_PriceExtremes\", \"learnToolsVersion\": \"0.3.5\", \"failureMessage\": \"\", \"exceptionClass\": \"\", \"trace\": \"\"}}, \"*\")"
      ],
      "text/plain": [
       "<IPython.core.display.Javascript object>"
      ]
     },
     "metadata": {},
     "output_type": "display_data"
    },
    {
     "data": {
      "text/markdown": [
       "<span style=\"color:#33cc33\">Correct</span>"
      ],
      "text/plain": [
       "Correct"
      ]
     },
     "metadata": {},
     "output_type": "display_data"
    }
   ],
   "source": [
    "price_extremes = reviews.groupby('variety').price.agg([min,max])\n",
    "\n",
    "# Check your answer\n",
    "q3.check()"
   ]
  },
  {
   "cell_type": "code",
   "execution_count": 7,
   "id": "15c71fb1",
   "metadata": {
    "execution": {
     "iopub.execute_input": "2025-05-13T22:29:01.525300Z",
     "iopub.status.busy": "2025-05-13T22:29:01.524932Z",
     "iopub.status.idle": "2025-05-13T22:29:01.529787Z",
     "shell.execute_reply": "2025-05-13T22:29:01.528830Z"
    },
    "papermill": {
     "duration": 0.012772,
     "end_time": "2025-05-13T22:29:01.531460",
     "exception": false,
     "start_time": "2025-05-13T22:29:01.518688",
     "status": "completed"
    },
    "tags": []
   },
   "outputs": [],
   "source": [
    "# q3.hint()\n",
    "#q3.solution()"
   ]
  },
  {
   "cell_type": "markdown",
   "id": "b721585c",
   "metadata": {
    "papermill": {
     "duration": 0.004818,
     "end_time": "2025-05-13T22:29:01.541889",
     "exception": false,
     "start_time": "2025-05-13T22:29:01.537071",
     "status": "completed"
    },
    "tags": []
   },
   "source": [
    "## 4.\n",
    "What are the most expensive wine varieties? Create a variable `sorted_varieties` containing a copy of the dataframe from the previous question where varieties are sorted in descending order based on minimum price, then on maximum price (to break ties)."
   ]
  },
  {
   "cell_type": "code",
   "execution_count": 8,
   "id": "c87edbf0",
   "metadata": {
    "execution": {
     "iopub.execute_input": "2025-05-13T22:29:01.553458Z",
     "iopub.status.busy": "2025-05-13T22:29:01.552761Z",
     "iopub.status.idle": "2025-05-13T22:29:01.562193Z",
     "shell.execute_reply": "2025-05-13T22:29:01.561507Z"
    },
    "papermill": {
     "duration": 0.016687,
     "end_time": "2025-05-13T22:29:01.563517",
     "exception": false,
     "start_time": "2025-05-13T22:29:01.546830",
     "status": "completed"
    },
    "tags": []
   },
   "outputs": [
    {
     "data": {
      "application/javascript": [
       "parent.postMessage({\"jupyterEvent\": \"custom.exercise_interaction\", \"data\": {\"outcomeType\": 1, \"valueTowardsCompletion\": 0.16666666666666666, \"interactionType\": 1, \"questionType\": 1, \"questionId\": \"4_SortedVarieties\", \"learnToolsVersion\": \"0.3.5\", \"failureMessage\": \"\", \"exceptionClass\": \"\", \"trace\": \"\"}}, \"*\")"
      ],
      "text/plain": [
       "<IPython.core.display.Javascript object>"
      ]
     },
     "metadata": {},
     "output_type": "display_data"
    },
    {
     "data": {
      "text/markdown": [
       "<span style=\"color:#33cc33\">Correct</span>"
      ],
      "text/plain": [
       "Correct"
      ]
     },
     "metadata": {},
     "output_type": "display_data"
    }
   ],
   "source": [
    "sorted_varieties = price_extremes.copy().sort_values(['min', 'max'], ascending=False)\n",
    "\n",
    "# Check your answer\n",
    "q4.check()"
   ]
  },
  {
   "cell_type": "code",
   "execution_count": 9,
   "id": "59d8e3d2",
   "metadata": {
    "execution": {
     "iopub.execute_input": "2025-05-13T22:29:01.575746Z",
     "iopub.status.busy": "2025-05-13T22:29:01.575465Z",
     "iopub.status.idle": "2025-05-13T22:29:01.582980Z",
     "shell.execute_reply": "2025-05-13T22:29:01.581927Z"
    },
    "papermill": {
     "duration": 0.015567,
     "end_time": "2025-05-13T22:29:01.584637",
     "exception": false,
     "start_time": "2025-05-13T22:29:01.569070",
     "status": "completed"
    },
    "tags": []
   },
   "outputs": [
    {
     "data": {
      "application/javascript": [
       "parent.postMessage({\"jupyterEvent\": \"custom.exercise_interaction\", \"data\": {\"interactionType\": 3, \"questionType\": 1, \"questionId\": \"4_SortedVarieties\", \"learnToolsVersion\": \"0.3.5\", \"valueTowardsCompletion\": 0.0, \"failureMessage\": \"\", \"exceptionClass\": \"\", \"trace\": \"\", \"outcomeType\": 4}}, \"*\")"
      ],
      "text/plain": [
       "<IPython.core.display.Javascript object>"
      ]
     },
     "metadata": {},
     "output_type": "display_data"
    },
    {
     "data": {
      "text/markdown": [
       "<span style=\"color:#33cc99\">Solution:</span> \n",
       "```python\n",
       "sorted_varieties = price_extremes.sort_values(by=['min', 'max'], ascending=False)\n",
       "```"
      ],
      "text/plain": [
       "Solution: \n",
       "```python\n",
       "sorted_varieties = price_extremes.sort_values(by=['min', 'max'], ascending=False)\n",
       "```"
      ]
     },
     "metadata": {},
     "output_type": "display_data"
    }
   ],
   "source": [
    "#q4.hint()\n",
    "q4.solution()"
   ]
  },
  {
   "cell_type": "markdown",
   "id": "93ce4de5",
   "metadata": {
    "papermill": {
     "duration": 0.00514,
     "end_time": "2025-05-13T22:29:01.595434",
     "exception": false,
     "start_time": "2025-05-13T22:29:01.590294",
     "status": "completed"
    },
    "tags": []
   },
   "source": [
    "## 5.\n",
    "Create a `Series` whose index is reviewers and whose values is the average review score given out by that reviewer. Hint: you will need the `taster_name` and `points` columns."
   ]
  },
  {
   "cell_type": "code",
   "execution_count": 10,
   "id": "adbe8166",
   "metadata": {
    "execution": {
     "iopub.execute_input": "2025-05-13T22:29:01.607273Z",
     "iopub.status.busy": "2025-05-13T22:29:01.606924Z",
     "iopub.status.idle": "2025-05-13T22:29:01.626383Z",
     "shell.execute_reply": "2025-05-13T22:29:01.625418Z"
    },
    "papermill": {
     "duration": 0.027249,
     "end_time": "2025-05-13T22:29:01.627971",
     "exception": false,
     "start_time": "2025-05-13T22:29:01.600722",
     "status": "completed"
    },
    "tags": []
   },
   "outputs": [
    {
     "data": {
      "application/javascript": [
       "parent.postMessage({\"jupyterEvent\": \"custom.exercise_interaction\", \"data\": {\"outcomeType\": 1, \"valueTowardsCompletion\": 0.16666666666666666, \"interactionType\": 1, \"questionType\": 1, \"questionId\": \"5_ReviewerMeanRatings\", \"learnToolsVersion\": \"0.3.5\", \"failureMessage\": \"\", \"exceptionClass\": \"\", \"trace\": \"\"}}, \"*\")"
      ],
      "text/plain": [
       "<IPython.core.display.Javascript object>"
      ]
     },
     "metadata": {},
     "output_type": "display_data"
    },
    {
     "data": {
      "text/markdown": [
       "<span style=\"color:#33cc33\">Correct</span>"
      ],
      "text/plain": [
       "Correct"
      ]
     },
     "metadata": {},
     "output_type": "display_data"
    }
   ],
   "source": [
    "reviewer_mean_ratings = reviews.groupby('taster_name').points.mean()\n",
    "\n",
    "# Check your answer\n",
    "q5.check()"
   ]
  },
  {
   "cell_type": "code",
   "execution_count": 11,
   "id": "7f61e80a",
   "metadata": {
    "execution": {
     "iopub.execute_input": "2025-05-13T22:29:01.640771Z",
     "iopub.status.busy": "2025-05-13T22:29:01.640461Z",
     "iopub.status.idle": "2025-05-13T22:29:01.644300Z",
     "shell.execute_reply": "2025-05-13T22:29:01.643462Z"
    },
    "papermill": {
     "duration": 0.012023,
     "end_time": "2025-05-13T22:29:01.645817",
     "exception": false,
     "start_time": "2025-05-13T22:29:01.633794",
     "status": "completed"
    },
    "tags": []
   },
   "outputs": [],
   "source": [
    "# q5.hint()\n",
    "# q5.solution()"
   ]
  },
  {
   "cell_type": "markdown",
   "id": "9977e9a8",
   "metadata": {
    "papermill": {
     "duration": 0.005503,
     "end_time": "2025-05-13T22:29:01.657009",
     "exception": false,
     "start_time": "2025-05-13T22:29:01.651506",
     "status": "completed"
    },
    "tags": []
   },
   "source": [
    "Are there significant differences in the average scores assigned by the various reviewers? Run the cell below to use the `describe()` method to see a summary of the range of values."
   ]
  },
  {
   "cell_type": "code",
   "execution_count": 12,
   "id": "2b2a2885",
   "metadata": {
    "execution": {
     "iopub.execute_input": "2025-05-13T22:29:01.669174Z",
     "iopub.status.busy": "2025-05-13T22:29:01.668869Z",
     "iopub.status.idle": "2025-05-13T22:29:01.680789Z",
     "shell.execute_reply": "2025-05-13T22:29:01.679808Z"
    },
    "papermill": {
     "duration": 0.01991,
     "end_time": "2025-05-13T22:29:01.682404",
     "exception": false,
     "start_time": "2025-05-13T22:29:01.662494",
     "status": "completed"
    },
    "tags": []
   },
   "outputs": [
    {
     "data": {
      "text/plain": [
       "count    19.000000\n",
       "mean     88.233026\n",
       "std       1.243610\n",
       "min      85.855422\n",
       "25%      87.323501\n",
       "50%      88.536235\n",
       "75%      88.975256\n",
       "max      90.562551\n",
       "Name: points, dtype: float64"
      ]
     },
     "execution_count": 12,
     "metadata": {},
     "output_type": "execute_result"
    }
   ],
   "source": [
    "reviewer_mean_ratings.describe()"
   ]
  },
  {
   "cell_type": "markdown",
   "id": "8d51e7c0",
   "metadata": {
    "papermill": {
     "duration": 0.005797,
     "end_time": "2025-05-13T22:29:01.694166",
     "exception": false,
     "start_time": "2025-05-13T22:29:01.688369",
     "status": "completed"
    },
    "tags": []
   },
   "source": [
    "## 6.\n",
    "What combination of countries and varieties are most common? Create a `Series` whose index is a `MultiIndex`of `{country, variety}` pairs. For example, a pinot noir produced in the US should map to `{\"US\", \"Pinot Noir\"}`. Sort the values in the `Series` in descending order based on wine count."
   ]
  },
  {
   "cell_type": "code",
   "execution_count": 13,
   "id": "269b1bcd",
   "metadata": {
    "execution": {
     "iopub.execute_input": "2025-05-13T22:29:01.707068Z",
     "iopub.status.busy": "2025-05-13T22:29:01.706735Z",
     "iopub.status.idle": "2025-05-13T22:29:01.743119Z",
     "shell.execute_reply": "2025-05-13T22:29:01.742110Z"
    },
    "papermill": {
     "duration": 0.044882,
     "end_time": "2025-05-13T22:29:01.744688",
     "exception": false,
     "start_time": "2025-05-13T22:29:01.699806",
     "status": "completed"
    },
    "tags": []
   },
   "outputs": [
    {
     "data": {
      "application/javascript": [
       "parent.postMessage({\"jupyterEvent\": \"custom.exercise_interaction\", \"data\": {\"outcomeType\": 1, \"valueTowardsCompletion\": 0.16666666666666666, \"interactionType\": 1, \"questionType\": 1, \"questionId\": \"6_GroupbyCountryVariety\", \"learnToolsVersion\": \"0.3.5\", \"failureMessage\": \"\", \"exceptionClass\": \"\", \"trace\": \"\"}}, \"*\")"
      ],
      "text/plain": [
       "<IPython.core.display.Javascript object>"
      ]
     },
     "metadata": {},
     "output_type": "display_data"
    },
    {
     "data": {
      "text/markdown": [
       "<span style=\"color:#33cc33\">Correct</span>"
      ],
      "text/plain": [
       "Correct"
      ]
     },
     "metadata": {},
     "output_type": "display_data"
    }
   ],
   "source": [
    "country_variety_counts = reviews.groupby(by=['country', 'variety']).size().sort_values(ascending=False)\n",
    "\n",
    "# Check your answer\n",
    "q6.check()"
   ]
  },
  {
   "cell_type": "code",
   "execution_count": 14,
   "id": "d5c866cd",
   "metadata": {
    "execution": {
     "iopub.execute_input": "2025-05-13T22:29:01.758429Z",
     "iopub.status.busy": "2025-05-13T22:29:01.758070Z",
     "iopub.status.idle": "2025-05-13T22:29:01.762578Z",
     "shell.execute_reply": "2025-05-13T22:29:01.761460Z"
    },
    "papermill": {
     "duration": 0.013336,
     "end_time": "2025-05-13T22:29:01.764024",
     "exception": false,
     "start_time": "2025-05-13T22:29:01.750688",
     "status": "completed"
    },
    "tags": []
   },
   "outputs": [],
   "source": [
    "# q6.hint()\n",
    "# q6.solution()"
   ]
  },
  {
   "cell_type": "markdown",
   "id": "c4b66375",
   "metadata": {
    "papermill": {
     "duration": 0.005814,
     "end_time": "2025-05-13T22:29:01.775912",
     "exception": false,
     "start_time": "2025-05-13T22:29:01.770098",
     "status": "completed"
    },
    "tags": []
   },
   "source": [
    "# Keep going\n",
    "\n",
    "Move on to the [**data types and missing data**](https://www.kaggle.com/residentmario/data-types-and-missing-values)."
   ]
  },
  {
   "cell_type": "markdown",
   "id": "75d11581",
   "metadata": {
    "papermill": {
     "duration": 0.005864,
     "end_time": "2025-05-13T22:29:01.787535",
     "exception": false,
     "start_time": "2025-05-13T22:29:01.781671",
     "status": "completed"
    },
    "tags": []
   },
   "source": [
    "---\n",
    "\n",
    "\n",
    "\n",
    "\n",
    "*Have questions or comments? Visit the [course discussion forum](https://www.kaggle.com/learn/pandas/discussion) to chat with other learners.*"
   ]
  }
 ],
 "metadata": {
  "kaggle": {
   "accelerator": "none",
   "dataSources": [
    {
     "datasetId": 655,
     "sourceId": 1252,
     "sourceType": "datasetVersion"
    },
    {
     "datasetId": 2321,
     "sourceId": 3919,
     "sourceType": "datasetVersion"
    },
    {
     "datasetId": 2894,
     "sourceId": 4877,
     "sourceType": "datasetVersion"
    },
    {
     "datasetId": 3491,
     "sourceId": 5624,
     "sourceType": "datasetVersion"
    },
    {
     "datasetId": 1442,
     "sourceId": 8172,
     "sourceType": "datasetVersion"
    },
    {
     "datasetId": 9366,
     "sourceId": 13206,
     "sourceType": "datasetVersion"
    },
    {
     "datasetId": 179555,
     "sourceId": 403916,
     "sourceType": "datasetVersion"
    },
    {
     "datasetId": 4549,
     "sourceId": 466349,
     "sourceType": "datasetVersion"
    },
    {
     "datasetId": 2478,
     "sourceId": 1151655,
     "sourceType": "datasetVersion"
    },
    {
     "datasetId": 10128,
     "sourceId": 5438389,
     "sourceType": "datasetVersion"
    }
   ],
   "isGpuEnabled": false,
   "isInternetEnabled": false,
   "language": "python",
   "sourceType": "notebook"
  },
  "kernelspec": {
   "display_name": "Python 3",
   "language": "python",
   "name": "python3"
  },
  "language_info": {
   "codemirror_mode": {
    "name": "ipython",
    "version": 3
   },
   "file_extension": ".py",
   "mimetype": "text/x-python",
   "name": "python",
   "nbconvert_exporter": "python",
   "pygments_lexer": "ipython3",
   "version": "3.11.11"
  },
  "papermill": {
   "default_parameters": {},
   "duration": 11.893788,
   "end_time": "2025-05-13T22:29:02.414347",
   "environment_variables": {},
   "exception": null,
   "input_path": "__notebook__.ipynb",
   "output_path": "__notebook__.ipynb",
   "parameters": {},
   "start_time": "2025-05-13T22:28:50.520559",
   "version": "2.6.0"
  }
 },
 "nbformat": 4,
 "nbformat_minor": 5
}
